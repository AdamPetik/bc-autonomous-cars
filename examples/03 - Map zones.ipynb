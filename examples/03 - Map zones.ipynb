{
 "cells": [
  {
   "cell_type": "markdown",
   "source": [
    "# 03 - Map zones\n",
    "Feature of zones enables user to specify various roles of different environment parts.\n",
    "Current model supports following zones: **Entertainment**, **Housing** and **Work**. Zones can overlap. In case **PERSON_BEHAVIOUR_CITY_CUDA**\n",
    "mobility pattern is used, it is REQUIRED to define at least one zone of each type.\n",
    "\n",
    "To do so, following syntax is used:"
   ],
   "metadata": {
    "collapsed": false,
    "pycharm": {
     "name": "#%% md\n"
    }
   }
  },
  {
   "cell_type": "code",
   "execution_count": null,
   "outputs": [],
   "source": [
    "#Defining multiple zones\n",
    "iismotion.addMapZone(\"OC Galeria\",              # zone name\n",
    "                     ZoneType.ENTERTAINMENT,    # zone type\n",
    "                     80,                        # probability of being chosen\n",
    "                     [Location(48.715232, 21.234898),\n",
    "                      Location(48.71584, 21.2389540),\n",
    "                      Location(48.71417088, 21.239554),\n",
    "                      Location(48.713519, 21.2356710)\n",
    "                     ] # polygon of locations that surround a zone\n",
    "                     )\n",
    "# Spolocensky pavilon\n",
    "iismotion.addMapZone(\"Spolocensky pavilon\", ZoneType.ENTERTAINMENT, 20, [Location(48.708224129, 21.23837471), Location(48.70860644, 21.2458419), Location(48.7049955, 21.2429881)])\n",
    "# # Od Toryskej po spolocensky pavilon (vratane)\n",
    "iismotion.addMapZone(\"Terasa byvanie\", ZoneType.HOUSING, 100, [Location(48.713165652, 21.23562812), Location(48.7150345, 21.24687194), Location(48.7028289622, 21.2433528900)])\n",
    "# Hronska az Stefanikova trieda\n",
    "iismotion.addMapZone(\"Hronska-Stefanikova praca\", ZoneType.WORK, 100, [Location(48.718064, 21.22601509), Location(48.71814916, 21.233310), Location(48.709710885, 21.236400604), Location(48.70750197, 21.2284612)])\n",
    "\n"
   ],
   "metadata": {
    "collapsed": false,
    "pycharm": {
     "name": "#%%\n"
    }
   }
  }
 ],
 "metadata": {
  "kernelspec": {
   "display_name": "Python 3",
   "language": "python",
   "name": "python3"
  },
  "language_info": {
   "codemirror_mode": {
    "name": "ipython",
    "version": 2
   },
   "file_extension": ".py",
   "mimetype": "text/x-python",
   "name": "python",
   "nbconvert_exporter": "python",
   "pygments_lexer": "ipython2",
   "version": "2.7.6"
  }
 },
 "nbformat": 4,
 "nbformat_minor": 0
}