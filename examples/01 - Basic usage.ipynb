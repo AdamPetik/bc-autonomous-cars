{
 "cells": [
  {
   "cell_type": "markdown",
   "source": [
    "# 01 - Basic usage example\n",
    "Simulation of 100 persons moving along road network obtained from OpenStreetMap (random waypoint movement)"
   ],
   "metadata": {
    "collapsed": false,
    "pycharm": {
     "name": "#%% md\n"
    }
   }
  },
  {
   "cell_type": "code",
   "execution_count": null,
   "outputs": [],
   "source": [
    "from src.IISMotion import IISMotion\n",
    "from src.common.Location import Location\n",
    "from src.common.CommonFunctions import CommonFunctions\n",
    "from src.common.SimulationClock import *\n",
    "import asyncio\n",
    "import time\n",
    "from src.movement.movementStrategies.MovementStrategyType import MovementStrategyType\n",
    "\n",
    "fun = CommonFunctions()\n",
    "\n",
    "# Setting location that will be simulated\n",
    "location = Location()\n",
    "location.setLatitude(48.709936)\n",
    "location.setLongitude(21.238923)\n",
    "location.setAltitude(0)\n",
    "radius = 200  #radius around the location that will be included\n",
    "\n",
    "oneway = False      #oneways are disabled so agents will not get stuck at the edges of simulated area\n",
    "guiEnabled = True   #gui enabled, to see the agents, open /frontend/index.html in your browser while simulation running\n",
    "guiTimeout = 0.5    #in seconds, sleep between simulations steps (gui is unable to keep up with updates at full speed)\n",
    "gridRows = 30       #grid that world is split into (used to find closest pairs of agents when needed)\n",
    "\n",
    "secondsPerTick = 1  #each iteration will increment clock by 1 second\n",
    "noOfTicks = 500     #number of iterations simulation will take\n",
    "\n",
    "iismotion = IISMotion(radius=radius,\n",
    "                      location=location,\n",
    "                      oneWayEnabled=oneway,\n",
    "                      guiEnabled=guiEnabled,\n",
    "                      gridRows=gridRows,\n",
    "                      secondsPerTick=secondsPerTick)  # initialize IISMotion\n",
    "#Adding persons with random waypoint walk along the drive network downloaded from OSM\n",
    "#collection with given movement type is created\n",
    "collectionOfPersons = iismotion.createActorCollection(\"RandomWaypointWithCuda\", True, MovementStrategyType.RANDOM_WAYPOINT_CITY_CUDA)\n",
    "collectionOfPersons.addPersons(100, False)      #will add 100 persons to random nodes (False means they will stay at given nodes)\n",
    "collectionOfPersons.setGuiEnabled(guiEnabled)   #collaction will be visualised in GUI\n",
    "\n",
    "#method that moves agents for desired number of iterations\n",
    "#async because of \"GUI\"\n",
    "async def simulate():\n",
    "    print(\"=================== Simulation started ===================\")\n",
    "    start = time.time()\n",
    "    predictions = []\n",
    "    for step in range(0, noOfTicks):\n",
    "        newDay = updateSimulationClock(secondsPerTick)\n",
    "        print(f\"---------------- step: {step} ---------------- dateTime : {getDateTime()} ----------------\")\n",
    "        stepStart = time.time()\n",
    "        iismotion.stepAllCollections(newDay)  # move all collections with ableOfMovement=True\n",
    "        stepEnd = time.time()\n",
    "\n",
    "        print(\"step took \", stepEnd - stepStart)\n",
    "        global DATETIME\n",
    "        if (guiEnabled == True):\n",
    "            await asyncio.sleep(guiTimeout)\n",
    "        end = time.time()\n",
    "\n",
    "    elapsed = end - start\n",
    "    print(\"================== Simulation finished ===================\")\n",
    "    print(\"elapsed time:\", elapsed)\n",
    "\n",
    "#main method that will execute simulation based on guiEnabled param\n",
    "def main():\n",
    "    if (guiEnabled):\n",
    "        loop = asyncio.get_event_loop()\n",
    "        loop.create_task(simulate())\n",
    "        loop.run_until_complete(iismotion.frontend.start_server)\n",
    "        loop.run_forever()\n",
    "    else:\n",
    "        loop = asyncio.get_event_loop()\n",
    "        loop.run_until_complete(simulate())\n",
    "\n",
    "if __name__ == '__main__':\n",
    "    main()"
   ],
   "metadata": {
    "collapsed": false,
    "pycharm": {
     "name": "#%%\n"
    }
   }
  }
 ],
 "metadata": {
  "kernelspec": {
   "display_name": "Python 3",
   "language": "python",
   "name": "python3"
  },
  "language_info": {
   "codemirror_mode": {
    "name": "ipython",
    "version": 2
   },
   "file_extension": ".py",
   "mimetype": "text/x-python",
   "name": "python",
   "nbconvert_exporter": "python",
   "pygments_lexer": "ipython2",
   "version": "2.7.6"
  }
 },
 "nbformat": 4,
 "nbformat_minor": 0
}