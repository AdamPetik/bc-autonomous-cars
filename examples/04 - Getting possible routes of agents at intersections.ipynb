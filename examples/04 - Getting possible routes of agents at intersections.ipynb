{
 "cells": [
  {
   "cell_type": "markdown",
   "source": [
    "# 04 - Getting possible routes of agents at intersections\n",
    "In case **MovementStrategyType.RANDOM_INTERSECTION_WAYPOINT_CITY_CUDA** is used, we can obtain all possible routes for\n",
    "each agent.\n",
    "\n",
    "Method **getLocationPredictionsForNextIterations(nuOfIterations, movementBackwardsAllowed)** needs to be called from desired collection right\n",
    "after the **iismotion.stepAllCollections()** or collection.step(). Parameter **nuOfIterations** is used to set the time\n",
    "interval that will be predicted. **movementBackwardsAllowed** set True will predict also agents returning from the\n",
    "intersection via the route they arrived.\n",
    "\n",
    "Prediction is returned in a shape of dictionary, with a keys consisting of agentId and time in string format e.g.\n",
    "(114, '01/01/2020, 00:00:08') value assigned to given key is an object of LocationPrediction"
   ],
   "metadata": {
    "collapsed": false,
    "pycharm": {
     "name": "#%% md\n"
    }
   }
  },
  {
   "cell_type": "code",
   "execution_count": null,
   "outputs": [],
   "source": [
    "class LocationPrediction:\n",
    "    def __init__(self):\n",
    "        self.id = None\n",
    "        self.agent = None\n",
    "        self.agentId = None\n",
    "        self.timestamp = None\n",
    "        self.location = None\n",
    "        self.targetLocation = None\n",
    "        self.madeAt = None\n",
    "        self.routeIndexes = []"
   ],
   "metadata": {
    "collapsed": false,
    "pycharm": {
     "name": "#%%\n"
    }
   }
  },
  {
   "cell_type": "markdown",
   "source": [
    "Example of prediction may look like this:"
   ],
   "metadata": {
    "collapsed": false,
    "pycharm": {
     "name": "#%% md\n"
    }
   }
  },
  {
   "cell_type": "code",
   "execution_count": null,
   "outputs": [],
   "source": [
    "key: (114, '01/01/2020, 00:00:08') | value: 48.70968349702594, 21.240015203692856, agent:114 | 2020-01-01 00:00:08 | routeIndexes:[0, 1, 2, 3, 4, 5, 6, 7, 8, 9, 10, 11, 12, 13, 14, 15, 16, 17, 18, 19, 20, 21, 22, 23, 24, 25, 26, 27, 28, 29, 30, 31, 32, 33, 34, 35, 36, 37, 38, 39, 40, 41, 42, 43, 44, 45, 46, 47, 48, 49, 50, 51, 52, 53, 54, 55, 56, 57, 58, 59, 60, 61, 62, 63, 64, 65, 66, 67, 68, 69, 70, 71, 72, 73, 74, 75, 76, 77, 78, 79, 80, 81, 82, 83, 84, 85, 86, 87, 88, 89, 90, 91, 92, 93, 94, 95, 96, 97, 98, 99, 100, 101, 102, 103, 104, 105, 106, 107, 108, 109, 110, 111, 112, 113, 114, 115, 116, 117, 118, 119, 120, 121, 122, 123, 124, 125, 126, 127, 128, 129, 130, 131] |\n",
    "key: (114, '01/01/2020, 00:00:09') | value: 48.7096953, 21.240011, agent:114 | 2020-01-01 00:00:09 | routeIndexes:[0, 1, 2, 3, 4, 5, 6, 7, 8, 9, 10, 11, 12, 13, 14, 15, 16, 17, 18, 19, 20, 21, 22, 23, 24, 25, 26, 27, 28, 29, 30, 31, 32, 33, 34, 35, 36, 37, 38, 39, 40, 41, 42, 43, 44, 45, 46, 47, 48, 49, 50, 51, 52, 53, 54, 55, 56, 57, 58, 59, 60, 61, 62, 63, 64, 65, 66, 67, 68, 69, 70, 71, 72, 73, 74, 75, 76, 77, 78, 79, 80, 81, 82, 83, 84, 85, 86, 87, 88, 89, 90, 91, 92, 93, 94, 95, 96, 97, 98, 99, 100, 101, 102, 103, 104, 105, 106, 107, 108, 109, 110, 111, 112, 113, 114, 115, 116, 117, 118, 119, 120, 121, 122, 123, 124, 125, 126, 127, 128, 129, 130, 131] |\n",
    "key: (114, '01/01/2020, 00:00:10') | value: 48.70971281213421, 21.24000476292912, agent:114 | 2020-01-01 00:00:10 | routeIndexes:[0, 1, 2, 3, 4, 5, 6, 7, 8, 9, 10, 11, 12, 13, 14, 15, 16, 17, 18, 19, 20, 21, 22] |\n",
    "key: (114, '01/01/2020, 00:00:10') | value: 48.70967778787428, 21.240017237037993, agent:114 | 2020-01-01 00:00:10 | routeIndexes:[23, 24, 25, 26, 27, 28, 29, 30, 31, 32, 33, 34, 35, 36, 37, 38, 39, 40, 41, 42, 43, 44, 45, 46, 47, 48, 49, 50, 51, 52, 53, 54, 55, 56, 57, 58, 59, 60, 61, 62, 63, 64, 65, 66, 67, 68, 69, 70, 71, 72, 73, 74, 75, 76, 77, 78, 79, 80, 81, 82, 83, 84, 85, 86, 87, 88, 89, 90, 91, 92, 93, 94, 95, 96, 97, 98, 99, 100, 101, 102, 103, 104, 105, 106, 107, 108, 109, 110, 111, 112, 113, 114, 115, 116, 117, 118, 119, 120, 121, 122, 123, 124, 125, 126, 127, 128, 129, 130, 131] |\n",
    "key: (114, '01/01/2020, 00:00:11') | value: 48.7097303242684, 21.239998525858123, agent:114 | 2020-01-01 00:00:11 | routeIndexes:[0, 1, 2, 3, 4, 5, 6, 7, 8, 9, 10, 11, 12, 13, 14, 15, 16, 17, 18, 19, 20, 21, 22] |\n",
    "key: (114, '01/01/2020, 00:00:11') | value: 48.70966027574853, 21.240023474075876, agent:114 | 2020-01-01 00:00:11 | routeIndexes:[23, 24, 25, 26, 27, 28, 29, 30, 31, 32, 33, 34, 35, 36, 37, 38, 39, 40, 41, 42, 43, 44, 45, 46, 47, 48, 49, 50, 51, 52, 53, 54, 55, 56, 57, 58, 59, 60, 61, 62, 63, 64, 65, 66, 67, 68, 69, 70, 71, 72, 73, 74, 75, 76, 77, 78, 79, 80, 81, 82, 83, 84, 85, 86, 87, 88, 89, 90, 91, 92, 93, 94, 95, 96, 97, 98, 99, 100, 101, 102, 103, 104, 105, 106, 107, 108, 109, 110, 111, 112, 113, 114, 115, 116, 117, 118, 119, 120, 121, 122, 123, 124, 125, 126, 127, 128, 129, 130, 131] |\n",
    "key: (114, '01/01/2020, 00:00:12') | value: 48.70974783640257, 21.23999228878702, agent:114 | 2020-01-01 00:00:12 | routeIndexes:[0, 1, 2, 3, 4, 5, 6, 7, 8, 9, 10, 11, 12, 13, 14, 15, 16, 17, 18, 19, 20, 21, 22] |\n",
    "key: (114, '01/01/2020, 00:00:12') | value: 48.70964276362277, 21.24002971111365, agent:114 | 2020-01-01 00:00:12 | routeIndexes:[23, 24, 25, 26, 27, 28, 29, 30, 31, 32, 33, 34, 35, 36, 37, 38, 39, 40, 41, 42, 43, 44, 45, 46, 47, 48, 49, 50, 51, 52, 53, 54, 55, 56, 57, 58, 59, 60, 61, 62, 63, 64, 65, 66, 67, 68, 69, 70, 71, 72, 73, 74, 75, 76, 77, 78, 79, 80, 81, 82, 83, 84, 85, 86, 87, 88, 89, 90, 91, 92, 93, 94, 95, 96, 97, 98, 99, 100, 101, 102, 103, 104, 105, 106, 107, 108, 109, 110, 111, 112, 113, 114, 115, 116, 117, 118, 119, 120, 121, 122, 123, 124, 125, 126, 127, 128, 129, 130, 131] |\n",
    "key: (114, '01/01/2020, 00:00:13') | value: 48.70976534853672, 21.2399860517158, agent:114 | 2020-01-01 00:00:13 | routeIndexes:[0, 1, 2, 3, 4, 5, 6, 7, 8, 9, 10, 11, 12, 13, 14, 15, 16, 17, 18, 19, 20, 21, 22] |\n",
    "key: (114, '01/01/2020, 00:00:13') | value: 48.709625251496995, 21.240035948151302, agent:114 | 2020-01-01 00:00:13 | routeIndexes:[23, 24, 25, 26, 27, 28, 29, 30, 31, 32, 33, 34, 35, 36, 37, 38, 39, 40, 41, 42, 43, 44, 45, 46, 47, 48, 49, 50, 51, 52, 53, 54, 55, 56, 57, 58, 59, 60, 61, 62, 63, 64, 65, 66, 67, 68, 69, 70, 71, 72, 73, 74, 75, 76, 77, 78, 79, 80, 81, 82, 83, 84, 85, 86, 87, 88, 89, 90, 91, 92, 93, 94, 95, 96, 97, 98, 99, 100, 101, 102, 103, 104, 105, 106, 107, 108, 109, 110, 111, 112, 113, 114, 115, 116, 117, 118, 119, 120, 121, 122, 123, 124, 125, 126, 127, 128, 129, 130, 131] |\n",
    "key: (114, '01/01/2020, 00:00:14') | value: 48.70978286067086, 21.239979814644464, agent:114 | 2020-01-01 00:00:14 | routeIndexes:[0, 1, 2, 3, 4, 5, 6, 7, 8, 9, 10, 11, 12, 13, 14, 15, 16, 17, 18, 19, 20, 21, 22] |\n",
    "key: (114, '01/01/2020, 00:00:14') | value: 48.709607739371194, 21.24004218518884, agent:114 | 2020-01-01 00:00:14 | routeIndexes:[23, 24, 25, 26, 27, 28, 29, 30, 31, 32, 33, 34, 35, 36, 37, 38, 39, 40, 41, 42, 43, 44, 45, 46, 47, 48, 49, 50, 51, 52, 53, 54, 55, 56, 57, 58, 59, 60, 61, 62, 63, 64, 65, 66, 67, 68, 69, 70, 71, 72, 73, 74, 75, 76, 77, 78, 79, 80, 81, 82, 83, 84, 85, 86, 87, 88, 89, 90, 91, 92, 93, 94, 95, 96, 97, 98, 99, 100, 101, 102, 103, 104, 105, 106, 107, 108, 109, 110, 111, 112, 113, 114, 115, 116, 117, 118, 119, 120, 121, 122, 123, 124, 125, 126, 127, 128, 129, 130, 131] |\n",
    "key: (114, '01/01/2020, 00:00:15') | value: 48.709800372804985, 21.23997357757302, agent:114 | 2020-01-01 00:00:15 | routeIndexes:[0, 1, 2, 3, 4, 5, 6, 7, 8, 9, 10, 11, 12, 13, 14, 15, 16, 17, 18, 19, 20, 21, 22] |\n",
    "key: (114, '01/01/2020, 00:00:15') | value: 48.70959022724537, 21.24004842222627, agent:114 | 2020-01-01 00:00:15 | routeIndexes:[23, 24, 25, 26, 27, 28, 29, 30, 31, 32, 33, 34, 35, 36, 37, 38, 39, 40, 41, 42, 43, 44, 45, 46, 47, 48, 49, 50, 51, 52, 53, 54, 55, 56, 57, 58, 59, 60, 61, 62, 63, 64, 65, 66, 67, 68, 69, 70, 71, 72, 73, 74, 75, 76, 77, 78, 79, 80, 81, 82, 83, 84, 85, 86, 87, 88, 89, 90, 91, 92, 93, 94, 95, 96, 97, 98, 99, 100, 101, 102, 103, 104, 105, 106, 107, 108, 109, 110, 111, 112, 113, 114, 115, 116, 117, 118, 119, 120, 121, 122, 123, 124, 125, 126, 127, 128, 129, 130, 131] |\n",
    "key: (114, '01/01/2020, 00:00:16') | value: 48.709817884939085, 21.239967340501465, agent:114 | 2020-01-01 00:00:16 | routeIndexes:[0, 1, 2, 3, 4, 5, 6, 7, 8, 9, 10, 11, 12, 13, 14, 15, 16, 17, 18, 19, 20, 21, 22] |\n",
    "key: (114, '01/01/2020, 00:00:16') | value: 48.70957271511955, 21.24005465926359, agent:114 | 2020-01-01 00:00:16 | routeIndexes:[23, 24, 25, 26, 27, 28, 29, 30, 31, 32, 33, 34, 35, 36, 37, 38, 39, 40, 41, 42, 43, 44, 45, 46, 47, 48, 49, 50, 51, 52, 53, 54, 55, 56, 57, 58, 59, 60, 61, 62, 63, 64, 65, 66, 67, 68, 69, 70, 71, 72, 73, 74, 75, 76, 77, 78, 79, 80, 81, 82, 83, 84, 85, 86, 87, 88, 89, 90, 91, 92, 93, 94, 95, 96, 97, 98, 99, 100, 101, 102, 103, 104, 105, 106, 107, 108, 109, 110, 111, 112, 113, 114, 115, 116, 117, 118, 119, 120, 121, 122, 123, 124, 125, 126, 127, 128, 129, 130, 131] |\n",
    "key: (114, '01/01/2020, 00:00:17') | value: 48.70983539707318, 21.23996110342979, agent:114 | 2020-01-01 00:00:17 | routeIndexes:[0, 1, 2, 3, 4, 5, 6, 7, 8, 9, 10, 11, 12, 13, 14, 15, 16, 17, 18, 19, 20, 21, 22] |\n",
    "key: (114, '01/01/2020, 00:00:17') | value: 48.7095552029937, 21.24006089630079, agent:114 | 2020-01-01 00:00:17 | routeIndexes:[23, 24, 25, 26, 27, 28, 29, 30, 31, 32, 33, 34, 35, 36, 37, 38, 39, 40, 41, 42, 43, 44, 45, 46, 47, 48, 49, 50, 51, 52, 53, 54, 55, 56, 57, 58, 59, 60, 61, 62, 63, 64, 65, 66, 67, 68, 69, 70, 71, 72, 73, 74, 75, 76, 77, 78, 79, 80, 81, 82, 83, 84, 85, 86, 87, 88, 89, 90, 91, 92, 93, 94, 95, 96, 97, 98, 99, 100, 101, 102, 103, 104, 105, 106, 107, 108, 109, 110, 111, 112, 113, 114, 115, 116, 117, 118, 119, 120, 121, 122, 123, 124, 125, 126, 127, 128, 129, 130, 131] |\n",
    "key: (114, '01/01/2020, 00:00:18') | value: 48.70985290920726, 21.239954866357998, agent:114 | 2020-01-01 00:00:18 | routeIndexes:[0, 1, 2, 3, 4, 5, 6, 7, 8, 9, 10, 11, 12, 13, 14, 15, 16, 17, 18, 19, 20, 21, 22] |\n",
    "key: (114, '01/01/2020, 00:00:18') | value: 48.7095434, 21.2400651, agent:114 | 2020-01-01 00:00:18 | routeIndexes:[23, 24, 25, 26, 27, 28, 29, 30, 31, 32, 33, 34, 35, 36, 37, 38, 39, 40, 41, 42, 43, 44, 45, 46, 47, 48, 49, 50, 51, 52, 53, 54, 55, 56, 57, 58, 59, 60, 61, 62, 63, 64, 65, 66, 67, 68, 69, 70, 71, 72, 73, 74, 75, 76, 77, 78, 79, 80, 81, 82, 83, 84, 85, 86, 87, 88, 89, 90, 91, 92, 93, 94, 95, 96, 97, 98, 99, 100, 101, 102, 103, 104, 105, 106, 107, 108, 109, 110, 111, 112, 113, 114, 115, 116, 117, 118, 119, 120, 121, 122, 123, 124, 125, 126, 127, 128, 129, 130, 131] |\n",
    "key: (114, '01/01/2020, 00:00:19') | value: 48.709870421341314, 21.239948629286097, agent:114 | 2020-01-01 00:00:19 | routeIndexes:[0, 1, 2, 3, 4, 5, 6, 7, 8, 9, 10, 11, 12, 13, 14, 15, 16, 17, 18, 19, 20, 21, 22] |\n",
    "key: (114, '01/01/2020, 00:00:19') | value: 48.70956091212832, 21.240058862962, agent:114 | 2020-01-01 00:00:19 | routeIndexes:[23, 24, 25, 26, 27, 28, 29, 30, 31, 32, 33, 34, 35, 36, 37, 38] |\n",
    "key: (114, '01/01/2020, 00:00:19') | value: 48.70953893272773, 21.240038692415947, agent:114 | 2020-01-01 00:00:19 | routeIndexes:[39, 40, 41, 42, 43, 44, 45, 46, 47, 48, 49, 50, 51, 52, 53, 54, 55, 56, 57, 58, 59, 60, 61, 62, 63, 64, 65, 66, 67, 68, 69, 70, 71, 72, 73, 74, 75, 76, 77, 78, 79, 80, 81, 82, 83, 84, 85, 86, 87, 88, 89, 90, 91, 92, 93, 94, 95, 96, 97, 98, 99, 100, 101, 102, 103, 104, 105, 106, 107, 108, 109, 110, 111, 112, 113, 114, 115, 116, 117, 118, 119, 120, 121, 122, 123, 124, 125, 126, 127, 128, 129, 130, 131] |\n",
    "key: (114, '01/01/2020, 00:00:20') | value: 48.709887933475336, 21.239942392214083, agent:114 | 2020-01-01 00:00:20 | routeIndexes:[0, 1, 2, 3, 4, 5, 6, 7, 8, 9, 10, 11, 12, 13, 14, 15, 16, 17, 18, 19, 20, 21, 22] |\n",
    "key: (114, '01/01/2020, 00:00:20') | value: 48.709578424256605, 21.24005262592389, agent:114 | 2020-01-01 00:00:20 | routeIndexes:[23, 24, 25, 26, 27, 28, 29, 30, 31, 32, 33, 34, 35, 36, 37, 38] |\n",
    "key: (114, '01/01/2020, 00:00:20') | value: 48.7095231, 21.2399451, agent:114 | 2020-01-01 00:00:20 | routeIndexes:[39, 40, 41, 42, 43, 44, 45, 46, 47, 48, 49, 50, 51, 52, 53, 54, 55, 56, 57, 58, 59, 60, 61, 62, 63, 64, 65, 66, 67, 68, 69, 70, 71, 72, 73, 74, 75, 76, 77, 78, 79, 80, 81, 82, 83, 84, 85, 86, 87, 88, 89, 90, 91, 92, 93, 94, 95, 96, 97, 98, 99, 100, 101, 102, 103, 104, 105, 106, 107, 108, 109, 110, 111, 112, 113, 114, 115, 116, 117, 118, 119, 120, 121, 122, 123, 124, 125, 126, 127, 128, 129, 130, 131] |\n",
    "key: (114, '01/01/2020, 00:00:21') | value: 48.70990544560935, 21.23993615514195, agent:114 | 2020-01-01 00:00:21 | routeIndexes:[0, 1, 2, 3, 4, 5, 6, 7, 8, 9, 10, 11, 12, 13, 14, 15, 16, 17, 18, 19, 20, 21, 22] |\n",
    "key: (114, '01/01/2020, 00:00:21') | value: 48.70959593638487, 21.24004638888567, agent:114 | 2020-01-01 00:00:21 | routeIndexes:[23, 24, 25, 26, 27, 28, 29, 30, 31, 32, 33, 34, 35, 36, 37, 38] |\n",
    "key: (114, '01/01/2020, 00:00:21') | value: 48.70951862223229, 21.239918696513712, agent:114 | 2020-01-01 00:00:21 | routeIndexes:[39, 40, 41, 42, 43, 44, 45, 46, 47, 48, 49, 50, 51, 52, 53, 54, 55, 56, 57, 58, 59, 60, 61, 62, 63, 64, 65, 66, 67, 68, 69, 70, 71, 72, 73, 74, 75, 76, 77, 78, 79, 80, 81, 82, 83, 84, 85, 86, 87, 88, 89, 90, 91, 92, 93, 94, 95, 96, 97, 98, 99, 100, 101, 102, 103, 104, 105, 106, 107, 108, 109, 110, 111, 112, 113, 114, 115, 116, 117, 118, 119, 120, 121, 122, 123, 124, 125, 126, 127, 128, 129, 130, 131] |\n",
    "key: (114, '01/01/2020, 00:00:22') | value: 48.709922957743345, 21.23992991806971, agent:114 | 2020-01-01 00:00:22 | routeIndexes:[0, 1, 2, 3, 4, 5, 6, 7, 8, 9, 10, 11, 12, 13, 14, 15, 16, 17, 18, 19, 20, 21, 22] |\n",
    "key: (114, '01/01/2020, 00:00:22') | value: 48.709613448513124, 21.240040151847335, agent:114 | 2020-01-01 00:00:22 | routeIndexes:[23, 24, 25, 26, 27, 28, 29, 30, 31, 32, 33, 34, 35, 36, 37, 38] |\n",
    "key: (114, '01/01/2020, 00:00:22') | value: 48.70951414445893, 21.239892293029627, agent:114 | 2020-01-01 00:00:22 | routeIndexes:[39, 40, 41, 42, 43, 44, 45, 46, 47, 48, 49, 50, 51, 52, 53, 54, 55, 56, 57, 58, 59, 60, 61, 62, 63, 64, 65, 66, 67, 68, 69, 70, 71, 72, 73, 74, 75, 76, 77, 78, 79, 80, 81, 82, 83, 84, 85, 86, 87, 88, 89, 90, 91, 92, 93, 94, 95, 96, 97, 98, 99, 100, 101, 102, 103, 104, 105, 106, 107, 108, 109, 110, 111, 112, 113, 114, 115, 116, 117, 118, 119, 120, 121, 122, 123, 124, 125, 126, 127, 128, 129, 130, 131] |\n"
   ],
   "metadata": {
    "collapsed": false,
    "pycharm": {
     "name": "#%%\n"
    }
   }
  },
  {
   "cell_type": "markdown",
   "source": [
    "Example of simulate method with prediction function also with a **little testing procedure that verifies predictions**:"
   ],
   "metadata": {
    "collapsed": false
   }
  },
  {
   "cell_type": "code",
   "execution_count": null,
   "outputs": [],
   "source": [
    "import cProfile\n",
    "import io\n",
    "import pstats\n",
    "\n",
    "from src.IISMotion import IISMotion\n",
    "from src.city.ZoneType import ZoneType\n",
    "from src.common.Location import Location\n",
    "from src.common.CommonFunctions import CommonFunctions\n",
    "from src.common.SimulationClock import *\n",
    "import asyncio\n",
    "import time\n",
    "\n",
    "from src.movement.LocationPredictor import LocationPredictor\n",
    "from src.movement.movementStrategies.MovementStrategyType import MovementStrategyType\n",
    "\n",
    "fun = CommonFunctions()\n",
    "\n",
    "# Setting location that will be simulated\n",
    "location = Location()\n",
    "location.setLatitude(48.709936)\n",
    "location.setLongitude(21.238923)\n",
    "location.setAltitude(0)\n",
    "radius = 200 # radius around the location that will be included\n",
    "\n",
    "oneway = False  # oneways are disabled so agents will not get stuck at the edges of simulated area\n",
    "guiEnabled = False  # gui enabled, to see the agents, open /frontend/index.html in your browser while simulation running\n",
    "guiTimeout = 0.05  # in seconds, sleep between simulations steps (gui is unable to keep up with updates at full speed)\n",
    "intersectionCheck = True  # check whether agents are located at the intersection nodes\n",
    "gridRows = 30  # grid that world is split into (used to find closest pairs of agents when needed)\n",
    "\n",
    "secondsPerTick = 1  # each iteration will increment clock by 1 second\n",
    "noOfTicks = 5000  # number of iterations simulation will take\n",
    "predictIterations = 15\n",
    "\n",
    "iismotion = IISMotion(radius=radius,\n",
    "                      location=location,\n",
    "                      oneWayEnabled=oneway,\n",
    "                      guiEnabled=guiEnabled,\n",
    "                      gridRows=gridRows,\n",
    "                      secondsPerTick=secondsPerTick)  # initialize IISMotion\n",
    "\n",
    "# Defining multiple zones\n",
    "iismotion.addMapZone(\"OC Galeria\",  # zone name\n",
    "                     ZoneType.ENTERTAINMENT,  # zone type\n",
    "                     80,  # probability of being chosen\n",
    "                     [Location(48.715232, 21.234898),\n",
    "                      Location(48.71584, 21.2389540),\n",
    "                      Location(48.71417088, 21.239554),\n",
    "                      Location(48.713519, 21.2356710)\n",
    "                      ]  # polygon of locations that surround a zone\n",
    "                     )\n",
    "# Spolocensky pavilon\n",
    "iismotion.addMapZone(\"Spolocensky pavilon\", ZoneType.ENTERTAINMENT, 20,\n",
    "                     [Location(48.708224129, 21.23837471), Location(48.70860644, 21.2458419),\n",
    "                      Location(48.7049955, 21.2429881)])\n",
    "# # Od Toryskej po spolocensky pavilon (vratane)\n",
    "iismotion.addMapZone(\"Terasa byvanie\", ZoneType.HOUSING, 100,\n",
    "                     [Location(48.713165652, 21.23562812), Location(48.7150345, 21.24687194),\n",
    "                      Location(48.7028289622, 21.2433528900)])\n",
    "# Hronska az Stefanikova trieda\n",
    "iismotion.addMapZone(\"Hronska-Stefanikova praca\", ZoneType.WORK, 100,\n",
    "                     [Location(48.718064, 21.22601509), Location(48.71814916, 21.233310),\n",
    "                      Location(48.709710885, 21.236400604), Location(48.70750197, 21.2284612)])\n",
    "\n",
    "# Adding persons with random waypoint walk along the drive network downloaded from OSM\n",
    "# collection with given movement type is created\n",
    "userCollection = iismotion.createActorCollection(\"userCollection\", True, MovementStrategyType.RANDOM_INTERSECTION_WAYPOINT_CITY_CUDA) \\\n",
    "    .addPersons(1, False) \\\n",
    "    .setGuiEnabled(guiEnabled)\n",
    "\n",
    "userLocation1 = Location(48.7095434, 21.2400651)\n",
    "# userLocation2 = Location(48.7093694, 21.2387051)\n",
    "userIds = userCollection.locationsTable.getAllIds()\n",
    "userCollection.actorSet[int(userIds[0])].setLocation(userLocation1)\n",
    "# userCollection.actorSet[int(userIds[1])].setLocation(userLocation1)\n",
    "\n",
    "\n",
    "# method that moves agents for desired number of iterations\n",
    "# async because of \"GUI\"\n",
    "async def simulate():\n",
    "    print(\"=================== Simulation started ===================\")\n",
    "    start = time.time()\n",
    "    predictions = []\n",
    "    for step in range(0, noOfTicks):\n",
    "        newDay = updateSimulationClock(secondsPerTick)\n",
    "        print(f\"---------------- step: {step} ---------------- dateTime : {getDateTime()} ----------------\")\n",
    "        stepStart = time.time()\n",
    "        iismotion.stepAllCollections(newDay)  # move all collections with ableOfMovement=True\n",
    "        prediction = userCollection.getLocationPredictionsForNextIterations(predictIterations, True)\n",
    "        predictions.append(prediction)\n",
    "\n",
    "        startIndex = step - predictIterations - 2\n",
    "        if startIndex < 0:\n",
    "            startIndex = 0\n",
    "\n",
    "        for index in range(startIndex, step):\n",
    "            pred = predictions[index]\n",
    "            print(f\"Testing predictions {index}\")\n",
    "            userCollection.compareCurrentLocationsWithPredictions(pred)\n",
    "        stepEnd = time.time()\n",
    "\n",
    "        print(\"step took \", stepEnd - stepStart)\n",
    "        global DATETIME\n",
    "        if (guiEnabled == True):\n",
    "            await asyncio.sleep(guiTimeout)\n",
    "        end = time.time()\n",
    "\n",
    "    elapsed = end - start\n",
    "    print(\"================== Simulation finished ===================\")\n",
    "    print(\"elapsed time:\", elapsed)\n",
    "\n",
    "\n",
    "#main method that will execute simulation based on guiEnabled param\n",
    "def main():\n",
    "    if (guiEnabled):\n",
    "        loop = asyncio.get_event_loop()\n",
    "        loop.create_task(simulate())\n",
    "        loop.run_until_complete(iismotion.frontend.start_server)\n",
    "        loop.run_forever()\n",
    "    else:\n",
    "        loop = asyncio.get_event_loop()\n",
    "        loop.run_until_complete(simulate())\n",
    "\n",
    "if __name__ == '__main__':\n",
    "    main()\n",
    "    # cProfile.run('main()')\n"
   ],
   "metadata": {
    "collapsed": false,
    "pycharm": {
     "name": "#%%\n"
    }
   }
  },
  {
   "cell_type": "markdown",
   "source": [
    "Example of prediction:\n",
    "![](files/predicitonExample.jpg)\n",
    "\n",
    "Node vs RouteIndex vs Step\n",
    "![](files/routeIndexVSstepVSnodeExample.png)"
   ],
   "metadata": {
    "collapsed": false
   }
  }
 ],
 "metadata": {
  "kernelspec": {
   "display_name": "Python 3",
   "language": "python",
   "name": "python3"
  },
  "language_info": {
   "codemirror_mode": {
    "name": "ipython",
    "version": 2
   },
   "file_extension": ".py",
   "mimetype": "text/x-python",
   "name": "python",
   "nbconvert_exporter": "python",
   "pygments_lexer": "ipython2",
   "version": "2.7.6"
  }
 },
 "nbformat": 4,
 "nbformat_minor": 0
}