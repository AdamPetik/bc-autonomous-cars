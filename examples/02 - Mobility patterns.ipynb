{
 "cells": [
  {
   "cell_type": "markdown",
   "source": [
    "# 02 - Mobility patterns\n",
    "List of supported mobility patterns:\n",
    "## RANDOM_WAYPOINT_CITY_CUDA\n",
    "moving along route network\n",
    "1. agent chooses random node of simulated area\n",
    "2. route towards given target using OpenStreetMap edges is found\n",
    "3. agent follows given route each iteration\n",
    "4. after reaching target, process starts again\n",
    "\n",
    "Example:"
   ],
   "metadata": {
    "collapsed": false,
    "pycharm": {
     "name": "#%% md\n"
    }
   }
  },
  {
   "cell_type": "code",
   "execution_count": null,
   "outputs": [],
   "source": [
    "iismotion.createActorCollection(\"RandomWaypointCityWithCuda\", True,MovementStrategyType.RANDOM_WAYPOINT_CITY_CUDA)\\\n",
    "    .addPersons(100, False)\\\n",
    "    .setGuiEnabled(True)\\\n",
    "    .setIntersectionCheckEnabled(True)"
   ],
   "metadata": {
    "collapsed": false,
    "pycharm": {
     "name": "#%%\n"
    }
   }
  },
  {
   "cell_type": "markdown",
   "source": [
    "## RANDOM_INTERSECTION_WAYPOINT_CITY_CUDA\n",
    "moving along route network\n",
    "1. agent chooses random intersection of simulated area\n",
    "2. route towards given target using OpenStreetMap edges is found\n",
    "3. agent follows given route each iteration\n",
    "4. after reaching target, process starts again\n",
    "\n",
    "Example:"
   ],
   "metadata": {
    "collapsed": false
   }
  },
  {
   "cell_type": "code",
   "execution_count": null,
   "outputs": [],
   "source": [
    "userCollection = iismotion.createActorCollection(\"userCollection\", True, MovementStrategyType.RANDOM_INTERSECTION_WAYPOINT_CITY_CUDA) \\\n",
    "    .addPersons(1, False) \\"
   ],
   "metadata": {
    "collapsed": false,
    "pycharm": {
     "name": "#%%\n"
    }
   }
  },
  {
   "cell_type": "markdown",
   "source": [
    "## RANDOM_WAYPOINT_BLANK_ENV_CUDA\n",
    "moving freely (even through buildings)\n",
    "1. agent chooses random location at simulated area\n",
    "2. agent walks towards target each iteration\n",
    "4. after reaching target, process starts again\n",
    "\n",
    "Example:"
   ],
   "metadata": {
    "collapsed": false
   }
  },
  {
   "cell_type": "code",
   "execution_count": null,
   "outputs": [],
   "source": [
    "iismotion.createActorCollection(\"RandomWaypointBlankEnv_WithCuda\", True,MovementStrategyType.RANDOM_WAYPOINT_BLANK_ENV_CUDA)\\\n",
    "    .addPersons(100, False)\\\n",
    "    .setGuiEnabled(True)\\\n",
    "    .setIntersectionCheckEnabled(True)"
   ],
   "metadata": {
    "collapsed": false,
    "pycharm": {
     "name": "#%%\n"
    }
   }
  },
  {
   "cell_type": "markdown",
   "source": [
    "## DRONE_MOVEMENT_CUDA\n",
    "waiting for assigned destination\n",
    "1. drone created within collection wait for target destinations\n",
    "2. when destination is set to given drone, it will move towards it each iteration\n",
    "\n",
    "Example:"
   ],
   "metadata": {
    "collapsed": false
   }
  },
  {
   "cell_type": "code",
   "execution_count": null,
   "outputs": [],
   "source": [
    "droneCollection = iismotion.createActorCollection(\"DroneMovement_WithCuda\", True, MovementStrategyType.DRONE_MOVEMENT_CUDA)\\\n",
    "    .addDrones(2)\\\n",
    "    .setGuiEnabled(True)\\\n",
    "    .setIntersectionCheckEnabled(False)\n",
    "\n",
    "droneIDs = droneCollection.locationsTable.getAllIds()\n",
    "# move first and second drone to specified location\n",
    "location = Location(48.709936, 21.238923, 20)\n",
    "droneCollection.actorSet[int(droneIDs[0])].setTargetLocation(location)\n",
    "droneCollection.actorSet[int(droneIDs[1])].setTargetLocation(location)"
   ],
   "metadata": {
    "collapsed": false,
    "pycharm": {
     "name": "#%%\n"
    }
   }
  },
  {
   "cell_type": "markdown",
   "source": [
    "can also be used with persons:"
   ],
   "metadata": {
    "collapsed": false,
    "pycharm": {
     "name": "#%% md\n"
    }
   }
  },
  {
   "cell_type": "code",
   "execution_count": null,
   "outputs": [],
   "source": [
    "userCollection = iismotion.createActorCollection(\"UsersWithDroneMovement_WithCuda\", True, MovementStrategyType.DRONE_MOVEMENT_CUDA)\\\n",
    "    .addPersons(3, False)\\\n",
    "    .setGuiEnabled(True)\\\n",
    "    .setIntersectionCheckEnabled(False)\n",
    "\n",
    "userIDs = userCollection.locationsTable.getAllIds()\n",
    "# move first and second person to specified location\n",
    "userCollection.actorSet[int(userIDs[0])].setTargetLocation(location)\n",
    "userCollection.actorSet[int(userIDs[0])].setTargetReached(False)\n",
    "userCollection.actorSet[int(userIDs[1])].setTargetLocation(location)\n",
    "userCollection.actorSet[int(userIDs[1])].setTargetReached(False)"
   ],
   "metadata": {
    "collapsed": false,
    "pycharm": {
     "name": "#%%\n"
    }
   }
  },
  {
   "cell_type": "markdown",
   "source": [
    "## PERSON_BEHAVIOUR_CITY_CUDA\n",
    "* NOTE: this pattern requires map zones to be created first (see corresponding example Jupyter notebook)\n",
    "* basic mobility principle is the same as in **RANDOM_WAYPOINT_CITY_CUDA** but new destinations are not generated\n",
    "upon reaching current destination\n",
    "* at the initialization phase, each user is assigned the building that will become it's home and other building for\n",
    "work, both for entire simulation. Home is a random building from a random \"Housing zone\", work from random \"Work zone\"\n",
    "* every user is initialized with 8-hour working time starting in the morning at time chosen from normal distribution.\n",
    "* user's default routine looks the following way:\n",
    "    1. waiting at home until work time\n",
    "    2. leaving home, going to work with a preset speed using roads\n",
    "    3. staying at work\n",
    "    4. leaving work, heading to a random building from \"Entertainment\" zone, staying there for 2 hours\n",
    "    5. going home\n",
    "    6. staying there (process is repeated)\n",
    "\n",
    "Example:"
   ],
   "metadata": {
    "collapsed": false
   }
  },
  {
   "cell_type": "code",
   "execution_count": null,
   "outputs": [],
   "source": [
    "# OC Galeria\n",
    "iismotion.addMapZone(\"OC Galeria\", ZoneType.ENTERTAINMENT, 80, [Location(48.715232, 21.234898), Location(48.71584, 21.2389540), Location(48.71417088, 21.239554), Location(48.713519, 21.2356710)])\n",
    "# Spolocensky pavilon\n",
    "iismotion.addMapZone(\"Spolocensky pavilon\", ZoneType.ENTERTAINMENT, 20, [Location(48.708224129, 21.23837471), Location(48.70860644, 21.2458419), Location(48.7049955, 21.2429881)])\n",
    "# # Od Toryskej po spolocensky pavilon (vratane)\n",
    "iismotion.addMapZone(\"Terasa byvanie\", ZoneType.HOUSING, 100, [Location(48.713165652, 21.23562812), Location(48.7150345, 21.24687194), Location(48.7028289622, 21.2433528900)])\n",
    "# Hronska az Stefanikova trieda\n",
    "iismotion.addMapZone(\"Hronska-Stefanikova praca\", ZoneType.WORK, 100, [Location(48.718064, 21.22601509), Location(48.71814916, 21.233310), Location(48.709710885, 21.236400604), Location(48.70750197, 21.2284612)])\n",
    "\n",
    "\n",
    "# Adding persons with random waypoint walk along the drive network downloaded from OSM\n",
    "# collection with given movement type is created\n",
    "userCollection = iismotion.createActorCollection(\"userCollection\", True, MovementStrategyType.PERSON_BEHAVIOUR_CITY_CUDA)\\\n",
    "    .addPersons(20, False)\\\n",
    "    .setGuiEnabled(True)\\\n",
    "    .setIntersectionCheckEnabled(False)"
   ],
   "metadata": {
    "collapsed": false,
    "pycharm": {
     "name": "#%%\n"
    }
   }
  }
 ],
 "metadata": {
  "kernelspec": {
   "display_name": "Python 3",
   "language": "python",
   "name": "python3"
  },
  "language_info": {
   "codemirror_mode": {
    "name": "ipython",
    "version": 2
   },
   "file_extension": ".py",
   "mimetype": "text/x-python",
   "name": "python",
   "nbconvert_exporter": "python",
   "pygments_lexer": "ipython2",
   "version": "2.7.6"
  }
 },
 "nbformat": 4,
 "nbformat_minor": 0
}